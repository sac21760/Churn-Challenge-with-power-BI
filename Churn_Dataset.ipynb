{
  "nbformat": 4,
  "nbformat_minor": 0,
  "metadata": {
    "colab": {
      "name": "Churn Dataset.ipynb",
      "provenance": []
    },
    "kernelspec": {
      "name": "python3",
      "display_name": "Python 3"
    },
    "language_info": {
      "name": "python"
    }
  },
  "cells": [
    {
      "cell_type": "code",
      "execution_count": 2,
      "metadata": {
        "colab": {
          "resources": {
            "http://localhost:8080/nbextensions/google.colab/files.js": {
              "data": "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",
              "ok": true,
              "headers": [
                [
                  "content-type",
                  "application/javascript"
                ]
              ],
              "status": 200,
              "status_text": ""
            }
          },
          "base_uri": "https://localhost:8080/",
          "height": 73
        },
        "id": "qAdIx0oKmJW0",
        "outputId": "f5c77c1c-3a8a-4b4a-ac17-84794ab2a4a5"
      },
      "outputs": [
        {
          "output_type": "display_data",
          "data": {
            "text/plain": [
              "<IPython.core.display.HTML object>"
            ],
            "text/html": [
              "\n",
              "     <input type=\"file\" id=\"files-2bfc5596-0edc-47c6-a18c-a2ada331a306\" name=\"files[]\" multiple disabled\n",
              "        style=\"border:none\" />\n",
              "     <output id=\"result-2bfc5596-0edc-47c6-a18c-a2ada331a306\">\n",
              "      Upload widget is only available when the cell has been executed in the\n",
              "      current browser session. Please rerun this cell to enable.\n",
              "      </output>\n",
              "      <script src=\"/nbextensions/google.colab/files.js\"></script> "
            ]
          },
          "metadata": {}
        },
        {
          "output_type": "stream",
          "name": "stdout",
          "text": [
            "Saving telecom_customer_churn.csv to telecom_customer_churn.csv\n"
          ]
        }
      ],
      "source": [
        "from google.colab import files\n",
        "uploaded = files.upload()"
      ]
    },
    {
      "cell_type": "code",
      "source": [
        "import pandas as pd\n",
        "import numpy as np"
      ],
      "metadata": {
        "id": "cw-FGcx6oaLa"
      },
      "execution_count": 4,
      "outputs": []
    },
    {
      "cell_type": "code",
      "source": [
        "churn_data=pd.read_csv('telecom_customer_churn.csv')"
      ],
      "metadata": {
        "id": "h15bO0Ucn2p_"
      },
      "execution_count": 5,
      "outputs": []
    },
    {
      "cell_type": "code",
      "source": [
        "churn_data"
      ],
      "metadata": {
        "id": "iixUM19sndkJ",
        "colab": {
          "base_uri": "https://localhost:8080/",
          "height": 731
        },
        "outputId": "bb7af49a-1b6b-4330-a96d-03382b5b689f"
      },
      "execution_count": 6,
      "outputs": [
        {
          "output_type": "execute_result",
          "data": {
            "text/plain": [
              "     Customer ID  Gender  Age Married  Number of Dependents          City  \\\n",
              "0     0002-ORFBO  Female   37     Yes                     0  Frazier Park   \n",
              "1     0003-MKNFE    Male   46      No                     0      Glendale   \n",
              "2     0004-TLHLJ    Male   50      No                     0    Costa Mesa   \n",
              "3     0011-IGKFF    Male   78     Yes                     0      Martinez   \n",
              "4     0013-EXCHZ  Female   75     Yes                     0     Camarillo   \n",
              "...          ...     ...  ...     ...                   ...           ...   \n",
              "7038  9987-LUTYD  Female   20      No                     0       La Mesa   \n",
              "7039  9992-RRAMN    Male   40     Yes                     0     Riverbank   \n",
              "7040  9992-UJOEL    Male   22      No                     0           Elk   \n",
              "7041  9993-LHIEB    Male   21     Yes                     0  Solana Beach   \n",
              "7042  9995-HOTOH    Male   36     Yes                     0   Sierra City   \n",
              "\n",
              "      Zip Code   Latitude   Longitude  Number of Referrals  ...  \\\n",
              "0        93225  34.827662 -118.999073                    2  ...   \n",
              "1        91206  34.162515 -118.203869                    0  ...   \n",
              "2        92627  33.645672 -117.922613                    0  ...   \n",
              "3        94553  38.014457 -122.115432                    1  ...   \n",
              "4        93010  34.227846 -119.079903                    3  ...   \n",
              "...        ...        ...         ...                  ...  ...   \n",
              "7038     91941  32.759327 -116.997260                    0  ...   \n",
              "7039     95367  37.734971 -120.954271                    1  ...   \n",
              "7040     95432  39.108252 -123.645121                    0  ...   \n",
              "7041     92075  33.001813 -117.263628                    5  ...   \n",
              "7042     96125  39.600599 -120.636358                    1  ...   \n",
              "\n",
              "       Payment Method Monthly Charge Total Charges  Total Refunds  \\\n",
              "0         Credit Card          65.60        593.30           0.00   \n",
              "1         Credit Card          -4.00        542.40          38.33   \n",
              "2     Bank Withdrawal          73.90        280.85           0.00   \n",
              "3     Bank Withdrawal          98.00       1237.85           0.00   \n",
              "4         Credit Card          83.90        267.40           0.00   \n",
              "...               ...            ...           ...            ...   \n",
              "7038      Credit Card          55.15        742.90           0.00   \n",
              "7039  Bank Withdrawal          85.10       1873.70           0.00   \n",
              "7040      Credit Card          50.30         92.75           0.00   \n",
              "7041      Credit Card          67.85       4627.65           0.00   \n",
              "7042  Bank Withdrawal          59.00       3707.60           0.00   \n",
              "\n",
              "     Total Extra Data Charges Total Long Distance Charges Total Revenue  \\\n",
              "0                           0                      381.51        974.81   \n",
              "1                          10                       96.21        610.28   \n",
              "2                           0                      134.60        415.45   \n",
              "3                           0                      361.66       1599.51   \n",
              "4                           0                       22.14        289.54   \n",
              "...                       ...                         ...           ...   \n",
              "7038                        0                      606.84       1349.74   \n",
              "7039                        0                      356.40       2230.10   \n",
              "7040                        0                       37.24        129.99   \n",
              "7041                        0                      142.04       4769.69   \n",
              "7042                        0                        0.00       3707.60   \n",
              "\n",
              "      Customer Status   Churn Category                   Churn Reason  \n",
              "0              Stayed              NaN                            NaN  \n",
              "1              Stayed              NaN                            NaN  \n",
              "2             Churned       Competitor  Competitor had better devices  \n",
              "3             Churned  Dissatisfaction        Product dissatisfaction  \n",
              "4             Churned  Dissatisfaction            Network reliability  \n",
              "...               ...              ...                            ...  \n",
              "7038           Stayed              NaN                            NaN  \n",
              "7039          Churned  Dissatisfaction        Product dissatisfaction  \n",
              "7040           Joined              NaN                            NaN  \n",
              "7041           Stayed              NaN                            NaN  \n",
              "7042           Stayed              NaN                            NaN  \n",
              "\n",
              "[7043 rows x 38 columns]"
            ],
            "text/html": [
              "\n",
              "  <div id=\"df-8e2d6e0a-1984-4689-9b5d-69473c5aa601\">\n",
              "    <div class=\"colab-df-container\">\n",
              "      <div>\n",
              "<style scoped>\n",
              "    .dataframe tbody tr th:only-of-type {\n",
              "        vertical-align: middle;\n",
              "    }\n",
              "\n",
              "    .dataframe tbody tr th {\n",
              "        vertical-align: top;\n",
              "    }\n",
              "\n",
              "    .dataframe thead th {\n",
              "        text-align: right;\n",
              "    }\n",
              "</style>\n",
              "<table border=\"1\" class=\"dataframe\">\n",
              "  <thead>\n",
              "    <tr style=\"text-align: right;\">\n",
              "      <th></th>\n",
              "      <th>Customer ID</th>\n",
              "      <th>Gender</th>\n",
              "      <th>Age</th>\n",
              "      <th>Married</th>\n",
              "      <th>Number of Dependents</th>\n",
              "      <th>City</th>\n",
              "      <th>Zip Code</th>\n",
              "      <th>Latitude</th>\n",
              "      <th>Longitude</th>\n",
              "      <th>Number of Referrals</th>\n",
              "      <th>...</th>\n",
              "      <th>Payment Method</th>\n",
              "      <th>Monthly Charge</th>\n",
              "      <th>Total Charges</th>\n",
              "      <th>Total Refunds</th>\n",
              "      <th>Total Extra Data Charges</th>\n",
              "      <th>Total Long Distance Charges</th>\n",
              "      <th>Total Revenue</th>\n",
              "      <th>Customer Status</th>\n",
              "      <th>Churn Category</th>\n",
              "      <th>Churn Reason</th>\n",
              "    </tr>\n",
              "  </thead>\n",
              "  <tbody>\n",
              "    <tr>\n",
              "      <th>0</th>\n",
              "      <td>0002-ORFBO</td>\n",
              "      <td>Female</td>\n",
              "      <td>37</td>\n",
              "      <td>Yes</td>\n",
              "      <td>0</td>\n",
              "      <td>Frazier Park</td>\n",
              "      <td>93225</td>\n",
              "      <td>34.827662</td>\n",
              "      <td>-118.999073</td>\n",
              "      <td>2</td>\n",
              "      <td>...</td>\n",
              "      <td>Credit Card</td>\n",
              "      <td>65.60</td>\n",
              "      <td>593.30</td>\n",
              "      <td>0.00</td>\n",
              "      <td>0</td>\n",
              "      <td>381.51</td>\n",
              "      <td>974.81</td>\n",
              "      <td>Stayed</td>\n",
              "      <td>NaN</td>\n",
              "      <td>NaN</td>\n",
              "    </tr>\n",
              "    <tr>\n",
              "      <th>1</th>\n",
              "      <td>0003-MKNFE</td>\n",
              "      <td>Male</td>\n",
              "      <td>46</td>\n",
              "      <td>No</td>\n",
              "      <td>0</td>\n",
              "      <td>Glendale</td>\n",
              "      <td>91206</td>\n",
              "      <td>34.162515</td>\n",
              "      <td>-118.203869</td>\n",
              "      <td>0</td>\n",
              "      <td>...</td>\n",
              "      <td>Credit Card</td>\n",
              "      <td>-4.00</td>\n",
              "      <td>542.40</td>\n",
              "      <td>38.33</td>\n",
              "      <td>10</td>\n",
              "      <td>96.21</td>\n",
              "      <td>610.28</td>\n",
              "      <td>Stayed</td>\n",
              "      <td>NaN</td>\n",
              "      <td>NaN</td>\n",
              "    </tr>\n",
              "    <tr>\n",
              "      <th>2</th>\n",
              "      <td>0004-TLHLJ</td>\n",
              "      <td>Male</td>\n",
              "      <td>50</td>\n",
              "      <td>No</td>\n",
              "      <td>0</td>\n",
              "      <td>Costa Mesa</td>\n",
              "      <td>92627</td>\n",
              "      <td>33.645672</td>\n",
              "      <td>-117.922613</td>\n",
              "      <td>0</td>\n",
              "      <td>...</td>\n",
              "      <td>Bank Withdrawal</td>\n",
              "      <td>73.90</td>\n",
              "      <td>280.85</td>\n",
              "      <td>0.00</td>\n",
              "      <td>0</td>\n",
              "      <td>134.60</td>\n",
              "      <td>415.45</td>\n",
              "      <td>Churned</td>\n",
              "      <td>Competitor</td>\n",
              "      <td>Competitor had better devices</td>\n",
              "    </tr>\n",
              "    <tr>\n",
              "      <th>3</th>\n",
              "      <td>0011-IGKFF</td>\n",
              "      <td>Male</td>\n",
              "      <td>78</td>\n",
              "      <td>Yes</td>\n",
              "      <td>0</td>\n",
              "      <td>Martinez</td>\n",
              "      <td>94553</td>\n",
              "      <td>38.014457</td>\n",
              "      <td>-122.115432</td>\n",
              "      <td>1</td>\n",
              "      <td>...</td>\n",
              "      <td>Bank Withdrawal</td>\n",
              "      <td>98.00</td>\n",
              "      <td>1237.85</td>\n",
              "      <td>0.00</td>\n",
              "      <td>0</td>\n",
              "      <td>361.66</td>\n",
              "      <td>1599.51</td>\n",
              "      <td>Churned</td>\n",
              "      <td>Dissatisfaction</td>\n",
              "      <td>Product dissatisfaction</td>\n",
              "    </tr>\n",
              "    <tr>\n",
              "      <th>4</th>\n",
              "      <td>0013-EXCHZ</td>\n",
              "      <td>Female</td>\n",
              "      <td>75</td>\n",
              "      <td>Yes</td>\n",
              "      <td>0</td>\n",
              "      <td>Camarillo</td>\n",
              "      <td>93010</td>\n",
              "      <td>34.227846</td>\n",
              "      <td>-119.079903</td>\n",
              "      <td>3</td>\n",
              "      <td>...</td>\n",
              "      <td>Credit Card</td>\n",
              "      <td>83.90</td>\n",
              "      <td>267.40</td>\n",
              "      <td>0.00</td>\n",
              "      <td>0</td>\n",
              "      <td>22.14</td>\n",
              "      <td>289.54</td>\n",
              "      <td>Churned</td>\n",
              "      <td>Dissatisfaction</td>\n",
              "      <td>Network reliability</td>\n",
              "    </tr>\n",
              "    <tr>\n",
              "      <th>...</th>\n",
              "      <td>...</td>\n",
              "      <td>...</td>\n",
              "      <td>...</td>\n",
              "      <td>...</td>\n",
              "      <td>...</td>\n",
              "      <td>...</td>\n",
              "      <td>...</td>\n",
              "      <td>...</td>\n",
              "      <td>...</td>\n",
              "      <td>...</td>\n",
              "      <td>...</td>\n",
              "      <td>...</td>\n",
              "      <td>...</td>\n",
              "      <td>...</td>\n",
              "      <td>...</td>\n",
              "      <td>...</td>\n",
              "      <td>...</td>\n",
              "      <td>...</td>\n",
              "      <td>...</td>\n",
              "      <td>...</td>\n",
              "      <td>...</td>\n",
              "    </tr>\n",
              "    <tr>\n",
              "      <th>7038</th>\n",
              "      <td>9987-LUTYD</td>\n",
              "      <td>Female</td>\n",
              "      <td>20</td>\n",
              "      <td>No</td>\n",
              "      <td>0</td>\n",
              "      <td>La Mesa</td>\n",
              "      <td>91941</td>\n",
              "      <td>32.759327</td>\n",
              "      <td>-116.997260</td>\n",
              "      <td>0</td>\n",
              "      <td>...</td>\n",
              "      <td>Credit Card</td>\n",
              "      <td>55.15</td>\n",
              "      <td>742.90</td>\n",
              "      <td>0.00</td>\n",
              "      <td>0</td>\n",
              "      <td>606.84</td>\n",
              "      <td>1349.74</td>\n",
              "      <td>Stayed</td>\n",
              "      <td>NaN</td>\n",
              "      <td>NaN</td>\n",
              "    </tr>\n",
              "    <tr>\n",
              "      <th>7039</th>\n",
              "      <td>9992-RRAMN</td>\n",
              "      <td>Male</td>\n",
              "      <td>40</td>\n",
              "      <td>Yes</td>\n",
              "      <td>0</td>\n",
              "      <td>Riverbank</td>\n",
              "      <td>95367</td>\n",
              "      <td>37.734971</td>\n",
              "      <td>-120.954271</td>\n",
              "      <td>1</td>\n",
              "      <td>...</td>\n",
              "      <td>Bank Withdrawal</td>\n",
              "      <td>85.10</td>\n",
              "      <td>1873.70</td>\n",
              "      <td>0.00</td>\n",
              "      <td>0</td>\n",
              "      <td>356.40</td>\n",
              "      <td>2230.10</td>\n",
              "      <td>Churned</td>\n",
              "      <td>Dissatisfaction</td>\n",
              "      <td>Product dissatisfaction</td>\n",
              "    </tr>\n",
              "    <tr>\n",
              "      <th>7040</th>\n",
              "      <td>9992-UJOEL</td>\n",
              "      <td>Male</td>\n",
              "      <td>22</td>\n",
              "      <td>No</td>\n",
              "      <td>0</td>\n",
              "      <td>Elk</td>\n",
              "      <td>95432</td>\n",
              "      <td>39.108252</td>\n",
              "      <td>-123.645121</td>\n",
              "      <td>0</td>\n",
              "      <td>...</td>\n",
              "      <td>Credit Card</td>\n",
              "      <td>50.30</td>\n",
              "      <td>92.75</td>\n",
              "      <td>0.00</td>\n",
              "      <td>0</td>\n",
              "      <td>37.24</td>\n",
              "      <td>129.99</td>\n",
              "      <td>Joined</td>\n",
              "      <td>NaN</td>\n",
              "      <td>NaN</td>\n",
              "    </tr>\n",
              "    <tr>\n",
              "      <th>7041</th>\n",
              "      <td>9993-LHIEB</td>\n",
              "      <td>Male</td>\n",
              "      <td>21</td>\n",
              "      <td>Yes</td>\n",
              "      <td>0</td>\n",
              "      <td>Solana Beach</td>\n",
              "      <td>92075</td>\n",
              "      <td>33.001813</td>\n",
              "      <td>-117.263628</td>\n",
              "      <td>5</td>\n",
              "      <td>...</td>\n",
              "      <td>Credit Card</td>\n",
              "      <td>67.85</td>\n",
              "      <td>4627.65</td>\n",
              "      <td>0.00</td>\n",
              "      <td>0</td>\n",
              "      <td>142.04</td>\n",
              "      <td>4769.69</td>\n",
              "      <td>Stayed</td>\n",
              "      <td>NaN</td>\n",
              "      <td>NaN</td>\n",
              "    </tr>\n",
              "    <tr>\n",
              "      <th>7042</th>\n",
              "      <td>9995-HOTOH</td>\n",
              "      <td>Male</td>\n",
              "      <td>36</td>\n",
              "      <td>Yes</td>\n",
              "      <td>0</td>\n",
              "      <td>Sierra City</td>\n",
              "      <td>96125</td>\n",
              "      <td>39.600599</td>\n",
              "      <td>-120.636358</td>\n",
              "      <td>1</td>\n",
              "      <td>...</td>\n",
              "      <td>Bank Withdrawal</td>\n",
              "      <td>59.00</td>\n",
              "      <td>3707.60</td>\n",
              "      <td>0.00</td>\n",
              "      <td>0</td>\n",
              "      <td>0.00</td>\n",
              "      <td>3707.60</td>\n",
              "      <td>Stayed</td>\n",
              "      <td>NaN</td>\n",
              "      <td>NaN</td>\n",
              "    </tr>\n",
              "  </tbody>\n",
              "</table>\n",
              "<p>7043 rows × 38 columns</p>\n",
              "</div>\n",
              "      <button class=\"colab-df-convert\" onclick=\"convertToInteractive('df-8e2d6e0a-1984-4689-9b5d-69473c5aa601')\"\n",
              "              title=\"Convert this dataframe to an interactive table.\"\n",
              "              style=\"display:none;\">\n",
              "        \n",
              "  <svg xmlns=\"http://www.w3.org/2000/svg\" height=\"24px\"viewBox=\"0 0 24 24\"\n",
              "       width=\"24px\">\n",
              "    <path d=\"M0 0h24v24H0V0z\" fill=\"none\"/>\n",
              "    <path d=\"M18.56 5.44l.94 2.06.94-2.06 2.06-.94-2.06-.94-.94-2.06-.94 2.06-2.06.94zm-11 1L8.5 8.5l.94-2.06 2.06-.94-2.06-.94L8.5 2.5l-.94 2.06-2.06.94zm10 10l.94 2.06.94-2.06 2.06-.94-2.06-.94-.94-2.06-.94 2.06-2.06.94z\"/><path d=\"M17.41 7.96l-1.37-1.37c-.4-.4-.92-.59-1.43-.59-.52 0-1.04.2-1.43.59L10.3 9.45l-7.72 7.72c-.78.78-.78 2.05 0 2.83L4 21.41c.39.39.9.59 1.41.59.51 0 1.02-.2 1.41-.59l7.78-7.78 2.81-2.81c.8-.78.8-2.07 0-2.86zM5.41 20L4 18.59l7.72-7.72 1.47 1.35L5.41 20z\"/>\n",
              "  </svg>\n",
              "      </button>\n",
              "      \n",
              "  <style>\n",
              "    .colab-df-container {\n",
              "      display:flex;\n",
              "      flex-wrap:wrap;\n",
              "      gap: 12px;\n",
              "    }\n",
              "\n",
              "    .colab-df-convert {\n",
              "      background-color: #E8F0FE;\n",
              "      border: none;\n",
              "      border-radius: 50%;\n",
              "      cursor: pointer;\n",
              "      display: none;\n",
              "      fill: #1967D2;\n",
              "      height: 32px;\n",
              "      padding: 0 0 0 0;\n",
              "      width: 32px;\n",
              "    }\n",
              "\n",
              "    .colab-df-convert:hover {\n",
              "      background-color: #E2EBFA;\n",
              "      box-shadow: 0px 1px 2px rgba(60, 64, 67, 0.3), 0px 1px 3px 1px rgba(60, 64, 67, 0.15);\n",
              "      fill: #174EA6;\n",
              "    }\n",
              "\n",
              "    [theme=dark] .colab-df-convert {\n",
              "      background-color: #3B4455;\n",
              "      fill: #D2E3FC;\n",
              "    }\n",
              "\n",
              "    [theme=dark] .colab-df-convert:hover {\n",
              "      background-color: #434B5C;\n",
              "      box-shadow: 0px 1px 3px 1px rgba(0, 0, 0, 0.15);\n",
              "      filter: drop-shadow(0px 1px 2px rgba(0, 0, 0, 0.3));\n",
              "      fill: #FFFFFF;\n",
              "    }\n",
              "  </style>\n",
              "\n",
              "      <script>\n",
              "        const buttonEl =\n",
              "          document.querySelector('#df-8e2d6e0a-1984-4689-9b5d-69473c5aa601 button.colab-df-convert');\n",
              "        buttonEl.style.display =\n",
              "          google.colab.kernel.accessAllowed ? 'block' : 'none';\n",
              "\n",
              "        async function convertToInteractive(key) {\n",
              "          const element = document.querySelector('#df-8e2d6e0a-1984-4689-9b5d-69473c5aa601');\n",
              "          const dataTable =\n",
              "            await google.colab.kernel.invokeFunction('convertToInteractive',\n",
              "                                                     [key], {});\n",
              "          if (!dataTable) return;\n",
              "\n",
              "          const docLinkHtml = 'Like what you see? Visit the ' +\n",
              "            '<a target=\"_blank\" href=https://colab.research.google.com/notebooks/data_table.ipynb>data table notebook</a>'\n",
              "            + ' to learn more about interactive tables.';\n",
              "          element.innerHTML = '';\n",
              "          dataTable['output_type'] = 'display_data';\n",
              "          await google.colab.output.renderOutput(dataTable, element);\n",
              "          const docLink = document.createElement('div');\n",
              "          docLink.innerHTML = docLinkHtml;\n",
              "          element.appendChild(docLink);\n",
              "        }\n",
              "      </script>\n",
              "    </div>\n",
              "  </div>\n",
              "  "
            ]
          },
          "metadata": {},
          "execution_count": 6
        }
      ]
    },
    {
      "cell_type": "code",
      "source": [
        "churn_data.columns"
      ],
      "metadata": {
        "id": "UXX6pprIpGNo",
        "colab": {
          "base_uri": "https://localhost:8080/"
        },
        "outputId": "f525d414-1b98-41ba-f69b-3de1264207d0"
      },
      "execution_count": 7,
      "outputs": [
        {
          "output_type": "execute_result",
          "data": {
            "text/plain": [
              "Index(['Customer ID', 'Gender', 'Age', 'Married', 'Number of Dependents',\n",
              "       'City', 'Zip Code', 'Latitude', 'Longitude', 'Number of Referrals',\n",
              "       'Tenure in Months', 'Offer', 'Phone Service',\n",
              "       'Avg Monthly Long Distance Charges', 'Multiple Lines',\n",
              "       'Internet Service', 'Internet Type', 'Avg Monthly GB Download',\n",
              "       'Online Security', 'Online Backup', 'Device Protection Plan',\n",
              "       'Premium Tech Support', 'Streaming TV', 'Streaming Movies',\n",
              "       'Streaming Music', 'Unlimited Data', 'Contract', 'Paperless Billing',\n",
              "       'Payment Method', 'Monthly Charge', 'Total Charges', 'Total Refunds',\n",
              "       'Total Extra Data Charges', 'Total Long Distance Charges',\n",
              "       'Total Revenue', 'Customer Status', 'Churn Category', 'Churn Reason'],\n",
              "      dtype='object')"
            ]
          },
          "metadata": {},
          "execution_count": 7
        }
      ]
    },
    {
      "cell_type": "code",
      "source": [
        "churn_data.isnull().sum()"
      ],
      "metadata": {
        "id": "7_z6Cp5VpMys",
        "colab": {
          "base_uri": "https://localhost:8080/"
        },
        "outputId": "963061eb-1ba5-4cd0-a7e6-1d01b3114d70"
      },
      "execution_count": 8,
      "outputs": [
        {
          "output_type": "execute_result",
          "data": {
            "text/plain": [
              "Customer ID                             0\n",
              "Gender                                  0\n",
              "Age                                     0\n",
              "Married                                 0\n",
              "Number of Dependents                    0\n",
              "City                                    0\n",
              "Zip Code                                0\n",
              "Latitude                                0\n",
              "Longitude                               0\n",
              "Number of Referrals                     0\n",
              "Tenure in Months                        0\n",
              "Offer                                   0\n",
              "Phone Service                           0\n",
              "Avg Monthly Long Distance Charges     682\n",
              "Multiple Lines                        682\n",
              "Internet Service                        0\n",
              "Internet Type                        1526\n",
              "Avg Monthly GB Download              1526\n",
              "Online Security                      1526\n",
              "Online Backup                        1526\n",
              "Device Protection Plan               1526\n",
              "Premium Tech Support                 1526\n",
              "Streaming TV                         1526\n",
              "Streaming Movies                     1526\n",
              "Streaming Music                      1526\n",
              "Unlimited Data                       1526\n",
              "Contract                                0\n",
              "Paperless Billing                       0\n",
              "Payment Method                          0\n",
              "Monthly Charge                          0\n",
              "Total Charges                           0\n",
              "Total Refunds                           0\n",
              "Total Extra Data Charges                0\n",
              "Total Long Distance Charges             0\n",
              "Total Revenue                           0\n",
              "Customer Status                         0\n",
              "Churn Category                       5174\n",
              "Churn Reason                         5174\n",
              "dtype: int64"
            ]
          },
          "metadata": {},
          "execution_count": 8
        }
      ]
    },
    {
      "cell_type": "code",
      "source": [
        "churn_data[\"Customer Status\"].value_counts()"
      ],
      "metadata": {
        "id": "aZ9zuwbzptr5",
        "colab": {
          "base_uri": "https://localhost:8080/"
        },
        "outputId": "8e7580b0-f8e0-425b-9664-71057d3dc6f4"
      },
      "execution_count": 9,
      "outputs": [
        {
          "output_type": "execute_result",
          "data": {
            "text/plain": [
              "Stayed     4720\n",
              "Churned    1869\n",
              "Joined      454\n",
              "Name: Customer Status, dtype: int64"
            ]
          },
          "metadata": {},
          "execution_count": 9
        }
      ]
    },
    {
      "cell_type": "code",
      "source": [
        "churn_data.info()"
      ],
      "metadata": {
        "id": "8VOf2k3dpQQt",
        "colab": {
          "base_uri": "https://localhost:8080/"
        },
        "outputId": "653c9979-68b8-4884-d49d-99d97d5386e8"
      },
      "execution_count": 10,
      "outputs": [
        {
          "output_type": "stream",
          "name": "stdout",
          "text": [
            "<class 'pandas.core.frame.DataFrame'>\n",
            "RangeIndex: 7043 entries, 0 to 7042\n",
            "Data columns (total 38 columns):\n",
            " #   Column                             Non-Null Count  Dtype  \n",
            "---  ------                             --------------  -----  \n",
            " 0   Customer ID                        7043 non-null   object \n",
            " 1   Gender                             7043 non-null   object \n",
            " 2   Age                                7043 non-null   int64  \n",
            " 3   Married                            7043 non-null   object \n",
            " 4   Number of Dependents               7043 non-null   int64  \n",
            " 5   City                               7043 non-null   object \n",
            " 6   Zip Code                           7043 non-null   int64  \n",
            " 7   Latitude                           7043 non-null   float64\n",
            " 8   Longitude                          7043 non-null   float64\n",
            " 9   Number of Referrals                7043 non-null   int64  \n",
            " 10  Tenure in Months                   7043 non-null   int64  \n",
            " 11  Offer                              7043 non-null   object \n",
            " 12  Phone Service                      7043 non-null   object \n",
            " 13  Avg Monthly Long Distance Charges  6361 non-null   float64\n",
            " 14  Multiple Lines                     6361 non-null   object \n",
            " 15  Internet Service                   7043 non-null   object \n",
            " 16  Internet Type                      5517 non-null   object \n",
            " 17  Avg Monthly GB Download            5517 non-null   float64\n",
            " 18  Online Security                    5517 non-null   object \n",
            " 19  Online Backup                      5517 non-null   object \n",
            " 20  Device Protection Plan             5517 non-null   object \n",
            " 21  Premium Tech Support               5517 non-null   object \n",
            " 22  Streaming TV                       5517 non-null   object \n",
            " 23  Streaming Movies                   5517 non-null   object \n",
            " 24  Streaming Music                    5517 non-null   object \n",
            " 25  Unlimited Data                     5517 non-null   object \n",
            " 26  Contract                           7043 non-null   object \n",
            " 27  Paperless Billing                  7043 non-null   object \n",
            " 28  Payment Method                     7043 non-null   object \n",
            " 29  Monthly Charge                     7043 non-null   float64\n",
            " 30  Total Charges                      7043 non-null   float64\n",
            " 31  Total Refunds                      7043 non-null   float64\n",
            " 32  Total Extra Data Charges           7043 non-null   int64  \n",
            " 33  Total Long Distance Charges        7043 non-null   float64\n",
            " 34  Total Revenue                      7043 non-null   float64\n",
            " 35  Customer Status                    7043 non-null   object \n",
            " 36  Churn Category                     1869 non-null   object \n",
            " 37  Churn Reason                       1869 non-null   object \n",
            "dtypes: float64(9), int64(6), object(23)\n",
            "memory usage: 2.0+ MB\n"
          ]
        }
      ]
    },
    {
      "cell_type": "code",
      "source": [
        "churn_data[\"Avg Monthly Long Distance Charges\"].mean()"
      ],
      "metadata": {
        "id": "Sg-mk6egrvhO",
        "colab": {
          "base_uri": "https://localhost:8080/"
        },
        "outputId": "5af367d7-8d4d-4b03-f96c-94a7222194a5"
      },
      "execution_count": 11,
      "outputs": [
        {
          "output_type": "execute_result",
          "data": {
            "text/plain": [
              "25.420517214274486"
            ]
          },
          "metadata": {},
          "execution_count": 11
        }
      ]
    },
    {
      "cell_type": "code",
      "source": [
        "churn_data['Avg Monthly Long Distance Charges'].fillna(churn_data['Avg Monthly Long Distance Charges'].mean(),inplace=True)"
      ],
      "metadata": {
        "id": "mWBBoKEIuv1l"
      },
      "execution_count": 13,
      "outputs": []
    },
    {
      "cell_type": "code",
      "source": [
        "churn_data.info()"
      ],
      "metadata": {
        "id": "RIp1bI2BwJ_9",
        "colab": {
          "base_uri": "https://localhost:8080/"
        },
        "outputId": "5ef000e3-f7bf-4f71-e68f-e02b701ac442"
      },
      "execution_count": 14,
      "outputs": [
        {
          "output_type": "stream",
          "name": "stdout",
          "text": [
            "<class 'pandas.core.frame.DataFrame'>\n",
            "RangeIndex: 7043 entries, 0 to 7042\n",
            "Data columns (total 38 columns):\n",
            " #   Column                             Non-Null Count  Dtype  \n",
            "---  ------                             --------------  -----  \n",
            " 0   Customer ID                        7043 non-null   object \n",
            " 1   Gender                             7043 non-null   object \n",
            " 2   Age                                7043 non-null   int64  \n",
            " 3   Married                            7043 non-null   object \n",
            " 4   Number of Dependents               7043 non-null   int64  \n",
            " 5   City                               7043 non-null   object \n",
            " 6   Zip Code                           7043 non-null   int64  \n",
            " 7   Latitude                           7043 non-null   float64\n",
            " 8   Longitude                          7043 non-null   float64\n",
            " 9   Number of Referrals                7043 non-null   int64  \n",
            " 10  Tenure in Months                   7043 non-null   int64  \n",
            " 11  Offer                              7043 non-null   object \n",
            " 12  Phone Service                      7043 non-null   object \n",
            " 13  Avg Monthly Long Distance Charges  7043 non-null   float64\n",
            " 14  Multiple Lines                     6361 non-null   object \n",
            " 15  Internet Service                   7043 non-null   object \n",
            " 16  Internet Type                      5517 non-null   object \n",
            " 17  Avg Monthly GB Download            5517 non-null   float64\n",
            " 18  Online Security                    5517 non-null   object \n",
            " 19  Online Backup                      5517 non-null   object \n",
            " 20  Device Protection Plan             5517 non-null   object \n",
            " 21  Premium Tech Support               5517 non-null   object \n",
            " 22  Streaming TV                       5517 non-null   object \n",
            " 23  Streaming Movies                   5517 non-null   object \n",
            " 24  Streaming Music                    5517 non-null   object \n",
            " 25  Unlimited Data                     5517 non-null   object \n",
            " 26  Contract                           7043 non-null   object \n",
            " 27  Paperless Billing                  7043 non-null   object \n",
            " 28  Payment Method                     7043 non-null   object \n",
            " 29  Monthly Charge                     7043 non-null   float64\n",
            " 30  Total Charges                      7043 non-null   float64\n",
            " 31  Total Refunds                      7043 non-null   float64\n",
            " 32  Total Extra Data Charges           7043 non-null   int64  \n",
            " 33  Total Long Distance Charges        7043 non-null   float64\n",
            " 34  Total Revenue                      7043 non-null   float64\n",
            " 35  Customer Status                    7043 non-null   object \n",
            " 36  Churn Category                     1869 non-null   object \n",
            " 37  Churn Reason                       1869 non-null   object \n",
            "dtypes: float64(9), int64(6), object(23)\n",
            "memory usage: 2.0+ MB\n"
          ]
        }
      ]
    },
    {
      "cell_type": "code",
      "source": [
        "import seaborn as sns"
      ],
      "metadata": {
        "id": "t0OcTFKWwtcB"
      },
      "execution_count": 15,
      "outputs": []
    },
    {
      "cell_type": "code",
      "source": [
        "sns.countplot(x='Multiple Lines',data=churn_data)"
      ],
      "metadata": {
        "id": "Hx24NaSOxFSp",
        "colab": {
          "base_uri": "https://localhost:8080/",
          "height": 297
        },
        "outputId": "23918c76-f19a-4ed9-a892-f46d28cf7aa0"
      },
      "execution_count": 16,
      "outputs": [
        {
          "output_type": "execute_result",
          "data": {
            "text/plain": [
              "<matplotlib.axes._subplots.AxesSubplot at 0x7f7ebb7d7310>"
            ]
          },
          "metadata": {},
          "execution_count": 16
        },
        {
          "output_type": "display_data",
          "data": {
            "text/plain": [
              "<Figure size 432x288 with 1 Axes>"
            ],
            "image/png": "[encoded data removed]"
          },
          "metadata": {
            "needs_background": "light"
          }
        }
      ]
    },
    {
      "cell_type": "code",
      "source": [
        "churn_data['Multiple Lines'].isna().sum()"
      ],
      "metadata": {
        "id": "Nech0mhAx5n3",
        "colab": {
          "base_uri": "https://localhost:8080/"
        },
        "outputId": "f36104b1-a902-441e-b282-a5ec442192aa"
      },
      "execution_count": 17,
      "outputs": [
        {
          "output_type": "execute_result",
          "data": {
            "text/plain": [
              "682"
            ]
          },
          "metadata": {},
          "execution_count": 17
        }
      ]
    },
    {
      "cell_type": "code",
      "source": [
        "churn_data['Multiple Lines'].fillna('No',inplace=True)"
      ],
      "metadata": {
        "id": "B0kjMCy6yOGf"
      },
      "execution_count": 18,
      "outputs": []
    },
    {
      "cell_type": "code",
      "source": [
        "churn_data.info()"
      ],
      "metadata": {
        "id": "9JKobfXTyikc",
        "colab": {
          "base_uri": "https://localhost:8080/"
        },
        "outputId": "a72698d6-f5c8-4b39-f7ce-b0bac2aac772"
      },
      "execution_count": 19,
      "outputs": [
        {
          "output_type": "stream",
          "name": "stdout",
          "text": [
            "<class 'pandas.core.frame.DataFrame'>\n",
            "RangeIndex: 7043 entries, 0 to 7042\n",
            "Data columns (total 38 columns):\n",
            " #   Column                             Non-Null Count  Dtype  \n",
            "---  ------                             --------------  -----  \n",
            " 0   Customer ID                        7043 non-null   object \n",
            " 1   Gender                             7043 non-null   object \n",
            " 2   Age                                7043 non-null   int64  \n",
            " 3   Married                            7043 non-null   object \n",
            " 4   Number of Dependents               7043 non-null   int64  \n",
            " 5   City                               7043 non-null   object \n",
            " 6   Zip Code                           7043 non-null   int64  \n",
            " 7   Latitude                           7043 non-null   float64\n",
            " 8   Longitude                          7043 non-null   float64\n",
            " 9   Number of Referrals                7043 non-null   int64  \n",
            " 10  Tenure in Months                   7043 non-null   int64  \n",
            " 11  Offer                              7043 non-null   object \n",
            " 12  Phone Service                      7043 non-null   object \n",
            " 13  Avg Monthly Long Distance Charges  7043 non-null   float64\n",
            " 14  Multiple Lines                     7043 non-null   object \n",
            " 15  Internet Service                   7043 non-null   object \n",
            " 16  Internet Type                      5517 non-null   object \n",
            " 17  Avg Monthly GB Download            5517 non-null   float64\n",
            " 18  Online Security                    5517 non-null   object \n",
            " 19  Online Backup                      5517 non-null   object \n",
            " 20  Device Protection Plan             5517 non-null   object \n",
            " 21  Premium Tech Support               5517 non-null   object \n",
            " 22  Streaming TV                       5517 non-null   object \n",
            " 23  Streaming Movies                   5517 non-null   object \n",
            " 24  Streaming Music                    5517 non-null   object \n",
            " 25  Unlimited Data                     5517 non-null   object \n",
            " 26  Contract                           7043 non-null   object \n",
            " 27  Paperless Billing                  7043 non-null   object \n",
            " 28  Payment Method                     7043 non-null   object \n",
            " 29  Monthly Charge                     7043 non-null   float64\n",
            " 30  Total Charges                      7043 non-null   float64\n",
            " 31  Total Refunds                      7043 non-null   float64\n",
            " 32  Total Extra Data Charges           7043 non-null   int64  \n",
            " 33  Total Long Distance Charges        7043 non-null   float64\n",
            " 34  Total Revenue                      7043 non-null   float64\n",
            " 35  Customer Status                    7043 non-null   object \n",
            " 36  Churn Category                     1869 non-null   object \n",
            " 37  Churn Reason                       1869 non-null   object \n",
            "dtypes: float64(9), int64(6), object(23)\n",
            "memory usage: 2.0+ MB\n"
          ]
        }
      ]
    },
    {
      "cell_type": "code",
      "source": [
        "import matplotlib.pyplot as plt"
      ],
      "metadata": {
        "id": "BBqqoS5pv3HB"
      },
      "execution_count": 20,
      "outputs": []
    },
    {
      "cell_type": "code",
      "source": [
        "churn_data.corr()"
      ],
      "metadata": {
        "id": "EqLP4QBOxgeq",
        "colab": {
          "base_uri": "https://localhost:8080/",
          "height": 948
        },
        "outputId": "a8523af7-34a8-475c-dc5b-b93e0adaa567"
      },
      "execution_count": 21,
      "outputs": [
        {
          "output_type": "execute_result",
          "data": {
            "text/plain": [
              "                                        Age  Number of Dependents  Zip Code  \\\n",
              "Age                                1.000000             -0.119000 -0.008183   \n",
              "Number of Dependents              -0.119000              1.000000  0.016493   \n",
              "Zip Code                          -0.008183              0.016493  1.000000   \n",
              "Latitude                          -0.010305              0.029081  0.894769   \n",
              "Longitude                          0.007612             -0.024271 -0.790564   \n",
              "Number of Referrals               -0.025141              0.278003  0.001463   \n",
              "Tenure in Months                   0.009927              0.108237  0.007146   \n",
              "Avg Monthly Long Distance Charges -0.019000             -0.002730  0.011666   \n",
              "Avg Monthly GB Download           -0.566518              0.300802 -0.002859   \n",
              "Monthly Charge                     0.134511             -0.125649 -0.002517   \n",
              "Total Charges                      0.059684              0.022535  0.001978   \n",
              "Total Refunds                      0.024168              0.014023 -0.003797   \n",
              "Total Extra Data Charges           0.025036             -0.014436 -0.014550   \n",
              "Total Long Distance Charges        0.003065              0.068966  0.005063   \n",
              "Total Revenue                      0.048265              0.038038  0.002944   \n",
              "\n",
              "                                   Latitude  Longitude  Number of Referrals  \\\n",
              "Age                               -0.010305   0.007612            -0.025141   \n",
              "Number of Dependents               0.029081  -0.024271             0.278003   \n",
              "Zip Code                           0.894769  -0.790564             0.001463   \n",
              "Latitude                           1.000000  -0.885979             0.018715   \n",
              "Longitude                         -0.885979   1.000000            -0.009893   \n",
              "Number of Referrals                0.018715  -0.009893             1.000000   \n",
              "Tenure in Months                   0.011963  -0.009672             0.326975   \n",
              "Avg Monthly Long Distance Charges  0.013701  -0.014641             0.001712   \n",
              "Avg Monthly GB Download           -0.013485   0.015195             0.080243   \n",
              "Monthly Charge                    -0.021613   0.021052             0.026301   \n",
              "Total Charges                     -0.002784   0.003811             0.250378   \n",
              "Total Refunds                     -0.009901  -0.000597             0.024756   \n",
              "Total Extra Data Charges          -0.013233   0.010461             0.000350   \n",
              "Total Long Distance Charges        0.008029  -0.006923             0.216190   \n",
              "Total Revenue                      0.000082   0.001062             0.261853   \n",
              "\n",
              "                                   Tenure in Months  \\\n",
              "Age                                        0.009927   \n",
              "Number of Dependents                       0.108237   \n",
              "Zip Code                                   0.007146   \n",
              "Latitude                                   0.011963   \n",
              "Longitude                                 -0.009672   \n",
              "Number of Referrals                        0.326975   \n",
              "Tenure in Months                           1.000000   \n",
              "Avg Monthly Long Distance Charges          0.012100   \n",
              "Avg Monthly GB Download                    0.038173   \n",
              "Monthly Charge                             0.239065   \n",
              "Total Charges                              0.826074   \n",
              "Total Refunds                              0.059021   \n",
              "Total Extra Data Charges                   0.082266   \n",
              "Total Long Distance Charges                0.674149   \n",
              "Total Revenue                              0.853146   \n",
              "\n",
              "                                   Avg Monthly Long Distance Charges  \\\n",
              "Age                                                        -0.019000   \n",
              "Number of Dependents                                       -0.002730   \n",
              "Zip Code                                                    0.011666   \n",
              "Latitude                                                    0.013701   \n",
              "Longitude                                                  -0.014641   \n",
              "Number of Referrals                                         0.001712   \n",
              "Tenure in Months                                            0.012100   \n",
              "Avg Monthly Long Distance Charges                           1.000000   \n",
              "Avg Monthly GB Download                                     0.017759   \n",
              "Monthly Charge                                              0.018455   \n",
              "Total Charges                                               0.016546   \n",
              "Total Refunds                                              -0.024869   \n",
              "Total Extra Data Charges                                    0.019822   \n",
              "Total Long Distance Charges                                 0.525222   \n",
              "Total Revenue                                               0.168531   \n",
              "\n",
              "                                   Avg Monthly GB Download  Monthly Charge  \\\n",
              "Age                                              -0.566518        0.134511   \n",
              "Number of Dependents                              0.300802       -0.125649   \n",
              "Zip Code                                         -0.002859       -0.002517   \n",
              "Latitude                                         -0.013485       -0.021613   \n",
              "Longitude                                         0.015195        0.021052   \n",
              "Number of Referrals                               0.080243        0.026301   \n",
              "Tenure in Months                                  0.038173        0.239065   \n",
              "Avg Monthly Long Distance Charges                 0.017759        0.018455   \n",
              "Avg Monthly GB Download                           1.000000       -0.017283   \n",
              "Monthly Charge                                   -0.017283        1.000000   \n",
              "Total Charges                                     0.031957        0.622810   \n",
              "Total Refunds                                    -0.011000        0.023963   \n",
              "Total Extra Data Charges                          0.015451        0.121238   \n",
              "Total Long Distance Charges                       0.024101        0.235685   \n",
              "Total Revenue                                     0.031922        0.563249   \n",
              "\n",
              "                                   Total Charges  Total Refunds  \\\n",
              "Age                                     0.059684       0.024168   \n",
              "Number of Dependents                    0.022535       0.014023   \n",
              "Zip Code                                0.001978      -0.003797   \n",
              "Latitude                               -0.002784      -0.009901   \n",
              "Longitude                               0.003811      -0.000597   \n",
              "Number of Referrals                     0.250378       0.024756   \n",
              "Tenure in Months                        0.826074       0.059021   \n",
              "Avg Monthly Long Distance Charges       0.016546      -0.024869   \n",
              "Avg Monthly GB Download                 0.031957      -0.011000   \n",
              "Monthly Charge                          0.622810       0.023963   \n",
              "Total Charges                           1.000000       0.039558   \n",
              "Total Refunds                           0.039558       1.000000   \n",
              "Total Extra Data Charges                0.121859       0.016755   \n",
              "Total Long Distance Charges             0.610185       0.028113   \n",
              "Total Revenue                           0.972212       0.036984   \n",
              "\n",
              "                                   Total Extra Data Charges  \\\n",
              "Age                                                0.025036   \n",
              "Number of Dependents                              -0.014436   \n",
              "Zip Code                                          -0.014550   \n",
              "Latitude                                          -0.013233   \n",
              "Longitude                                          0.010461   \n",
              "Number of Referrals                                0.000350   \n",
              "Tenure in Months                                   0.082266   \n",
              "Avg Monthly Long Distance Charges                  0.019822   \n",
              "Avg Monthly GB Download                            0.015451   \n",
              "Monthly Charge                                     0.121238   \n",
              "Total Charges                                      0.121859   \n",
              "Total Refunds                                      0.016755   \n",
              "Total Extra Data Charges                           1.000000   \n",
              "Total Long Distance Charges                        0.058871   \n",
              "Total Revenue                                      0.122496   \n",
              "\n",
              "                                   Total Long Distance Charges  Total Revenue  \n",
              "Age                                                   0.003065       0.048265  \n",
              "Number of Dependents                                  0.068966       0.038038  \n",
              "Zip Code                                              0.005063       0.002944  \n",
              "Latitude                                              0.008029       0.000082  \n",
              "Longitude                                            -0.006923       0.001062  \n",
              "Number of Referrals                                   0.216190       0.261853  \n",
              "Tenure in Months                                      0.674149       0.853146  \n",
              "Avg Monthly Long Distance Charges                     0.525222       0.168531  \n",
              "Avg Monthly GB Download                               0.024101       0.031922  \n",
              "Monthly Charge                                        0.235685       0.563249  \n",
              "Total Charges                                         0.610185       0.972212  \n",
              "Total Refunds                                         0.028113       0.036984  \n",
              "Total Extra Data Charges                              0.058871       0.122496  \n",
              "Total Long Distance Charges                           1.000000       0.778559  \n",
              "Total Revenue                                         0.778559       1.000000  "
            ],
            "text/html": [
              "\n",
              "  <div id=\"df-8768d71d-ea91-407a-a0dd-1821009fd0f0\">\n",
              "    <div class=\"colab-df-container\">\n",
              "      <div>\n",
              "<style scoped>\n",
              "    .dataframe tbody tr th:only-of-type {\n",
              "        vertical-align: middle;\n",
              "    }\n",
              "\n",
              "    .dataframe tbody tr th {\n",
              "        vertical-align: top;\n",
              "    }\n",
              "\n",
              "    .dataframe thead th {\n",
              "        text-align: right;\n",
              "    }\n",
              "</style>\n",
              "<table border=\"1\" class=\"dataframe\">\n",
              "  <thead>\n",
              "    <tr style=\"text-align: right;\">\n",
              "      <th></th>\n",
              "      <th>Age</th>\n",
              "      <th>Number of Dependents</th>\n",
              "      <th>Zip Code</th>\n",
              "      <th>Latitude</th>\n",
              "      <th>Longitude</th>\n",
              "      <th>Number of Referrals</th>\n",
              "      <th>Tenure in Months</th>\n",
              "      <th>Avg Monthly Long Distance Charges</th>\n",
              "      <th>Avg Monthly GB Download</th>\n",
              "      <th>Monthly Charge</th>\n",
              "      <th>Total Charges</th>\n",
              "      <th>Total Refunds</th>\n",
              "      <th>Total Extra Data Charges</th>\n",
              "      <th>Total Long Distance Charges</th>\n",
              "      <th>Total Revenue</th>\n",
              "    </tr>\n",
              "  </thead>\n",
              "  <tbody>\n",
              "    <tr>\n",
              "      <th>Age</th>\n",
              "      <td>1.000000</td>\n",
              "      <td>-0.119000</td>\n",
              "      <td>-0.008183</td>\n",
              "      <td>-0.010305</td>\n",
              "      <td>0.007612</td>\n",
              "      <td>-0.025141</td>\n",
              "      <td>0.009927</td>\n",
              "      <td>-0.019000</td>\n",
              "      <td>-0.566518</td>\n",
              "      <td>0.134511</td>\n",
              "      <td>0.059684</td>\n",
              "      <td>0.024168</td>\n",
              "      <td>0.025036</td>\n",
              "      <td>0.003065</td>\n",
              "      <td>0.048265</td>\n",
              "    </tr>\n",
              "    <tr>\n",
              "      <th>Number of Dependents</th>\n",
              "      <td>-0.119000</td>\n",
              "      <td>1.000000</td>\n",
              "      <td>0.016493</td>\n",
              "      <td>0.029081</td>\n",
              "      <td>-0.024271</td>\n",
              "      <td>0.278003</td>\n",
              "      <td>0.108237</td>\n",
              "      <td>-0.002730</td>\n",
              "      <td>0.300802</td>\n",
              "      <td>-0.125649</td>\n",
              "      <td>0.022535</td>\n",
              "      <td>0.014023</td>\n",
              "      <td>-0.014436</td>\n",
              "      <td>0.068966</td>\n",
              "      <td>0.038038</td>\n",
              "    </tr>\n",
              "    <tr>\n",
              "      <th>Zip Code</th>\n",
              "      <td>-0.008183</td>\n",
              "      <td>0.016493</td>\n",
              "      <td>1.000000</td>\n",
              "      <td>0.894769</td>\n",
              "      <td>-0.790564</td>\n",
              "      <td>0.001463</td>\n",
              "      <td>0.007146</td>\n",
              "      <td>0.011666</td>\n",
              "      <td>-0.002859</td>\n",
              "      <td>-0.002517</td>\n",
              "      <td>0.001978</td>\n",
              "      <td>-0.003797</td>\n",
              "      <td>-0.014550</td>\n",
              "      <td>0.005063</td>\n",
              "      <td>0.002944</td>\n",
              "    </tr>\n",
              "    <tr>\n",
              "      <th>Latitude</th>\n",
              "      <td>-0.010305</td>\n",
              "      <td>0.029081</td>\n",
              "      <td>0.894769</td>\n",
              "      <td>1.000000</td>\n",
              "      <td>-0.885979</td>\n",
              "      <td>0.018715</td>\n",
              "      <td>0.011963</td>\n",
              "      <td>0.013701</td>\n",
              "      <td>-0.013485</td>\n",
              "      <td>-0.021613</td>\n",
              "      <td>-0.002784</td>\n",
              "      <td>-0.009901</td>\n",
              "      <td>-0.013233</td>\n",
              "      <td>0.008029</td>\n",
              "      <td>0.000082</td>\n",
              "    </tr>\n",
              "    <tr>\n",
              "      <th>Longitude</th>\n",
              "      <td>0.007612</td>\n",
              "      <td>-0.024271</td>\n",
              "      <td>-0.790564</td>\n",
              "      <td>-0.885979</td>\n",
              "      <td>1.000000</td>\n",
              "      <td>-0.009893</td>\n",
              "      <td>-0.009672</td>\n",
              "      <td>-0.014641</td>\n",
              "      <td>0.015195</td>\n",
              "      <td>0.021052</td>\n",
              "      <td>0.003811</td>\n",
              "      <td>-0.000597</td>\n",
              "      <td>0.010461</td>\n",
              "      <td>-0.006923</td>\n",
              "      <td>0.001062</td>\n",
              "    </tr>\n",
              "    <tr>\n",
              "      <th>Number of Referrals</th>\n",
              "      <td>-0.025141</td>\n",
              "      <td>0.278003</td>\n",
              "      <td>0.001463</td>\n",
              "      <td>0.018715</td>\n",
              "      <td>-0.009893</td>\n",
              "      <td>1.000000</td>\n",
              "      <td>0.326975</td>\n",
              "      <td>0.001712</td>\n",
              "      <td>0.080243</td>\n",
              "      <td>0.026301</td>\n",
              "      <td>0.250378</td>\n",
              "      <td>0.024756</td>\n",
              "      <td>0.000350</td>\n",
              "      <td>0.216190</td>\n",
              "      <td>0.261853</td>\n",
              "    </tr>\n",
              "    <tr>\n",
              "      <th>Tenure in Months</th>\n",
              "      <td>0.009927</td>\n",
              "      <td>0.108237</td>\n",
              "      <td>0.007146</td>\n",
              "      <td>0.011963</td>\n",
              "      <td>-0.009672</td>\n",
              "      <td>0.326975</td>\n",
              "      <td>1.000000</td>\n",
              "      <td>0.012100</td>\n",
              "      <td>0.038173</td>\n",
              "      <td>0.239065</td>\n",
              "      <td>0.826074</td>\n",
              "      <td>0.059021</td>\n",
              "      <td>0.082266</td>\n",
              "      <td>0.674149</td>\n",
              "      <td>0.853146</td>\n",
              "    </tr>\n",
              "    <tr>\n",
              "      <th>Avg Monthly Long Distance Charges</th>\n",
              "      <td>-0.019000</td>\n",
              "      <td>-0.002730</td>\n",
              "      <td>0.011666</td>\n",
              "      <td>0.013701</td>\n",
              "      <td>-0.014641</td>\n",
              "      <td>0.001712</td>\n",
              "      <td>0.012100</td>\n",
              "      <td>1.000000</td>\n",
              "      <td>0.017759</td>\n",
              "      <td>0.018455</td>\n",
              "      <td>0.016546</td>\n",
              "      <td>-0.024869</td>\n",
              "      <td>0.019822</td>\n",
              "      <td>0.525222</td>\n",
              "      <td>0.168531</td>\n",
              "    </tr>\n",
              "    <tr>\n",
              "      <th>Avg Monthly GB Download</th>\n",
              "      <td>-0.566518</td>\n",
              "      <td>0.300802</td>\n",
              "      <td>-0.002859</td>\n",
              "      <td>-0.013485</td>\n",
              "      <td>0.015195</td>\n",
              "      <td>0.080243</td>\n",
              "      <td>0.038173</td>\n",
              "      <td>0.017759</td>\n",
              "      <td>1.000000</td>\n",
              "      <td>-0.017283</td>\n",
              "      <td>0.031957</td>\n",
              "      <td>-0.011000</td>\n",
              "      <td>0.015451</td>\n",
              "      <td>0.024101</td>\n",
              "      <td>0.031922</td>\n",
              "    </tr>\n",
              "    <tr>\n",
              "      <th>Monthly Charge</th>\n",
              "      <td>0.134511</td>\n",
              "      <td>-0.125649</td>\n",
              "      <td>-0.002517</td>\n",
              "      <td>-0.021613</td>\n",
              "      <td>0.021052</td>\n",
              "      <td>0.026301</td>\n",
              "      <td>0.239065</td>\n",
              "      <td>0.018455</td>\n",
              "      <td>-0.017283</td>\n",
              "      <td>1.000000</td>\n",
              "      <td>0.622810</td>\n",
              "      <td>0.023963</td>\n",
              "      <td>0.121238</td>\n",
              "      <td>0.235685</td>\n",
              "      <td>0.563249</td>\n",
              "    </tr>\n",
              "    <tr>\n",
              "      <th>Total Charges</th>\n",
              "      <td>0.059684</td>\n",
              "      <td>0.022535</td>\n",
              "      <td>0.001978</td>\n",
              "      <td>-0.002784</td>\n",
              "      <td>0.003811</td>\n",
              "      <td>0.250378</td>\n",
              "      <td>0.826074</td>\n",
              "      <td>0.016546</td>\n",
              "      <td>0.031957</td>\n",
              "      <td>0.622810</td>\n",
              "      <td>1.000000</td>\n",
              "      <td>0.039558</td>\n",
              "      <td>0.121859</td>\n",
              "      <td>0.610185</td>\n",
              "      <td>0.972212</td>\n",
              "    </tr>\n",
              "    <tr>\n",
              "      <th>Total Refunds</th>\n",
              "      <td>0.024168</td>\n",
              "      <td>0.014023</td>\n",
              "      <td>-0.003797</td>\n",
              "      <td>-0.009901</td>\n",
              "      <td>-0.000597</td>\n",
              "      <td>0.024756</td>\n",
              "      <td>0.059021</td>\n",
              "      <td>-0.024869</td>\n",
              "      <td>-0.011000</td>\n",
              "      <td>0.023963</td>\n",
              "      <td>0.039558</td>\n",
              "      <td>1.000000</td>\n",
              "      <td>0.016755</td>\n",
              "      <td>0.028113</td>\n",
              "      <td>0.036984</td>\n",
              "    </tr>\n",
              "    <tr>\n",
              "      <th>Total Extra Data Charges</th>\n",
              "      <td>0.025036</td>\n",
              "      <td>-0.014436</td>\n",
              "      <td>-0.014550</td>\n",
              "      <td>-0.013233</td>\n",
              "      <td>0.010461</td>\n",
              "      <td>0.000350</td>\n",
              "      <td>0.082266</td>\n",
              "      <td>0.019822</td>\n",
              "      <td>0.015451</td>\n",
              "      <td>0.121238</td>\n",
              "      <td>0.121859</td>\n",
              "      <td>0.016755</td>\n",
              "      <td>1.000000</td>\n",
              "      <td>0.058871</td>\n",
              "      <td>0.122496</td>\n",
              "    </tr>\n",
              "    <tr>\n",
              "      <th>Total Long Distance Charges</th>\n",
              "      <td>0.003065</td>\n",
              "      <td>0.068966</td>\n",
              "      <td>0.005063</td>\n",
              "      <td>0.008029</td>\n",
              "      <td>-0.006923</td>\n",
              "      <td>0.216190</td>\n",
              "      <td>0.674149</td>\n",
              "      <td>0.525222</td>\n",
              "      <td>0.024101</td>\n",
              "      <td>0.235685</td>\n",
              "      <td>0.610185</td>\n",
              "      <td>0.028113</td>\n",
              "      <td>0.058871</td>\n",
              "      <td>1.000000</td>\n",
              "      <td>0.778559</td>\n",
              "    </tr>\n",
              "    <tr>\n",
              "      <th>Total Revenue</th>\n",
              "      <td>0.048265</td>\n",
              "      <td>0.038038</td>\n",
              "      <td>0.002944</td>\n",
              "      <td>0.000082</td>\n",
              "      <td>0.001062</td>\n",
              "      <td>0.261853</td>\n",
              "      <td>0.853146</td>\n",
              "      <td>0.168531</td>\n",
              "      <td>0.031922</td>\n",
              "      <td>0.563249</td>\n",
              "      <td>0.972212</td>\n",
              "      <td>0.036984</td>\n",
              "      <td>0.122496</td>\n",
              "      <td>0.778559</td>\n",
              "      <td>1.000000</td>\n",
              "    </tr>\n",
              "  </tbody>\n",
              "</table>\n",
              "</div>\n",
              "      <button class=\"colab-df-convert\" onclick=\"convertToInteractive('df-8768d71d-ea91-407a-a0dd-1821009fd0f0')\"\n",
              "              title=\"Convert this dataframe to an interactive table.\"\n",
              "              style=\"display:none;\">\n",
              "        \n",
              "  <svg xmlns=\"http://www.w3.org/2000/svg\" height=\"24px\"viewBox=\"0 0 24 24\"\n",
              "       width=\"24px\">\n",
              "    <path d=\"M0 0h24v24H0V0z\" fill=\"none\"/>\n",
              "    <path d=\"M18.56 5.44l.94 2.06.94-2.06 2.06-.94-2.06-.94-.94-2.06-.94 2.06-2.06.94zm-11 1L8.5 8.5l.94-2.06 2.06-.94-2.06-.94L8.5 2.5l-.94 2.06-2.06.94zm10 10l.94 2.06.94-2.06 2.06-.94-2.06-.94-.94-2.06-.94 2.06-2.06.94z\"/><path d=\"M17.41 7.96l-1.37-1.37c-.4-.4-.92-.59-1.43-.59-.52 0-1.04.2-1.43.59L10.3 9.45l-7.72 7.72c-.78.78-.78 2.05 0 2.83L4 21.41c.39.39.9.59 1.41.59.51 0 1.02-.2 1.41-.59l7.78-7.78 2.81-2.81c.8-.78.8-2.07 0-2.86zM5.41 20L4 18.59l7.72-7.72 1.47 1.35L5.41 20z\"/>\n",
              "  </svg>\n",
              "      </button>\n",
              "      \n",
              "  <style>\n",
              "    .colab-df-container {\n",
              "      display:flex;\n",
              "      flex-wrap:wrap;\n",
              "      gap: 12px;\n",
              "    }\n",
              "\n",
              "    .colab-df-convert {\n",
              "      background-color: #E8F0FE;\n",
              "      border: none;\n",
              "      border-radius: 50%;\n",
              "      cursor: pointer;\n",
              "      display: none;\n",
              "      fill: #1967D2;\n",
              "      height: 32px;\n",
              "      padding: 0 0 0 0;\n",
              "      width: 32px;\n",
              "    }\n",
              "\n",
              "    .colab-df-convert:hover {\n",
              "      background-color: #E2EBFA;\n",
              "      box-shadow: 0px 1px 2px rgba(60, 64, 67, 0.3), 0px 1px 3px 1px rgba(60, 64, 67, 0.15);\n",
              "      fill: #174EA6;\n",
              "    }\n",
              "\n",
              "    [theme=dark] .colab-df-convert {\n",
              "      background-color: #3B4455;\n",
              "      fill: #D2E3FC;\n",
              "    }\n",
              "\n",
              "    [theme=dark] .colab-df-convert:hover {\n",
              "      background-color: #434B5C;\n",
              "      box-shadow: 0px 1px 3px 1px rgba(0, 0, 0, 0.15);\n",
              "      filter: drop-shadow(0px 1px 2px rgba(0, 0, 0, 0.3));\n",
              "      fill: #FFFFFF;\n",
              "    }\n",
              "  </style>\n",
              "\n",
              "      <script>\n",
              "        const buttonEl =\n",
              "          document.querySelector('#df-8768d71d-ea91-407a-a0dd-1821009fd0f0 button.colab-df-convert');\n",
              "        buttonEl.style.display =\n",
              "          google.colab.kernel.accessAllowed ? 'block' : 'none';\n",
              "\n",
              "        async function convertToInteractive(key) {\n",
              "          const element = document.querySelector('#df-8768d71d-ea91-407a-a0dd-1821009fd0f0');\n",
              "          const dataTable =\n",
              "            await google.colab.kernel.invokeFunction('convertToInteractive',\n",
              "                                                     [key], {});\n",
              "          if (!dataTable) return;\n",
              "\n",
              "          const docLinkHtml = 'Like what you see? Visit the ' +\n",
              "            '<a target=\"_blank\" href=https://colab.research.google.com/notebooks/data_table.ipynb>data table notebook</a>'\n",
              "            + ' to learn more about interactive tables.';\n",
              "          element.innerHTML = '';\n",
              "          dataTable['output_type'] = 'display_data';\n",
              "          await google.colab.output.renderOutput(dataTable, element);\n",
              "          const docLink = document.createElement('div');\n",
              "          docLink.innerHTML = docLinkHtml;\n",
              "          element.appendChild(docLink);\n",
              "        }\n",
              "      </script>\n",
              "    </div>\n",
              "  </div>\n",
              "  "
            ]
          },
          "metadata": {},
          "execution_count": 21
        }
      ]
    },
    {
      "cell_type": "code",
      "source": [
        "sns.countplot(x='Internet Type',data=churn_data)"
      ],
      "metadata": {
        "id": "0ZXL_Eqwwedi",
        "colab": {
          "base_uri": "https://localhost:8080/",
          "height": 296
        },
        "outputId": "45696ca3-cc21-49e7-f1e5-ad9fda09d129"
      },
      "execution_count": 22,
      "outputs": [
        {
          "output_type": "execute_result",
          "data": {
            "text/plain": [
              "<matplotlib.axes._subplots.AxesSubplot at 0x7f7ebbf9e1d0>"
            ]
          },
          "metadata": {},
          "execution_count": 22
        },
        {
          "output_type": "display_data",
          "data": {
            "text/plain": [
              "<Figure size 432x288 with 1 Axes>"
            ],
            "image/png": "[encoded data removed]"
          },
          "metadata": {
            "needs_background": "light"
          }
        }
      ]
    },
    {
      "cell_type": "code",
      "source": [
        "churn_data['Internet Type'].fillna('Fiber Optic',inplace=True)"
      ],
      "metadata": {
        "id": "neavaR7j1Acf"
      },
      "execution_count": 23,
      "outputs": []
    },
    {
      "cell_type": "code",
      "source": [
        "sns.countplot(x='Online Security',data=churn_data)"
      ],
      "metadata": {
        "id": "4cvTnOWl0p5x",
        "colab": {
          "base_uri": "https://localhost:8080/",
          "height": 296
        },
        "outputId": "b1e20eb1-ed65-44c1-8d0e-42d6e99eb721"
      },
      "execution_count": 24,
      "outputs": [
        {
          "output_type": "execute_result",
          "data": {
            "text/plain": [
              "<matplotlib.axes._subplots.AxesSubplot at 0x7f7ebb23c850>"
            ]
          },
          "metadata": {},
          "execution_count": 24
        },
        {
          "output_type": "display_data",
          "data": {
            "text/plain": [
              "<Figure size 432x288 with 1 Axes>"
            ],
            "image/png": "[encoded data removed]"
          },
          "metadata": {
            "needs_background": "light"
          }
        }
      ]
    },
    {
      "cell_type": "code",
      "source": [
        "churn_data['Online Security'].fillna('No',inplace=True)"
      ],
      "metadata": {
        "id": "q7zSxaD21V5k"
      },
      "execution_count": 25,
      "outputs": []
    },
    {
      "cell_type": "code",
      "source": [
        "sns.countplot(x='Online Backup',data=churn_data)"
      ],
      "metadata": {
        "id": "jJWtOh9L0t-Z",
        "colab": {
          "base_uri": "https://localhost:8080/",
          "height": 296
        },
        "outputId": "3324bb43-5a68-4da4-9cda-741025f1031b"
      },
      "execution_count": 26,
      "outputs": [
        {
          "output_type": "execute_result",
          "data": {
            "text/plain": [
              "<matplotlib.axes._subplots.AxesSubplot at 0x7f7ebb1c0ed0>"
            ]
          },
          "metadata": {},
          "execution_count": 26
        },
        {
          "output_type": "display_data",
          "data": {
            "text/plain": [
              "<Figure size 432x288 with 1 Axes>"
            ],
            "image/png": "[encoded data removed]"
          },
          "metadata": {
            "needs_background": "light"
          }
        }
      ]
    },
    {
      "cell_type": "code",
      "source": [
        "churn_data['Online Backup'].fillna('No',inplace=True)"
      ],
      "metadata": {
        "id": "2MWaKfeQ1dq9"
      },
      "execution_count": 27,
      "outputs": []
    },
    {
      "cell_type": "code",
      "source": [
        "sns.countplot(x='Device Protection Plan',data=churn_data)"
      ],
      "metadata": {
        "id": "HrCFwRJS0wr0",
        "colab": {
          "base_uri": "https://localhost:8080/",
          "height": 296
        },
        "outputId": "4d9ae7d5-a82c-4798-d208-cb76e2a4c6e8"
      },
      "execution_count": 28,
      "outputs": [
        {
          "output_type": "execute_result",
          "data": {
            "text/plain": [
              "<matplotlib.axes._subplots.AxesSubplot at 0x7f7ebb19b450>"
            ]
          },
          "metadata": {},
          "execution_count": 28
        },
        {
          "output_type": "display_data",
          "data": {
            "text/plain": [
              "<Figure size 432x288 with 1 Axes>"
            ],
            "image/png": "[encoded data removed]"
          },
          "metadata": {
            "needs_background": "light"
          }
        }
      ]
    },
    {
      "cell_type": "code",
      "source": [
        "churn_data['Device Protection Plan'].fillna('No',inplace=True)"
      ],
      "metadata": {
        "id": "V6ZxlDn41l0f"
      },
      "execution_count": 29,
      "outputs": []
    },
    {
      "cell_type": "code",
      "source": [
        "sns.countplot(x='Premium Tech Support',data=churn_data)"
      ],
      "metadata": {
        "id": "hBo4dS4P0yW4",
        "colab": {
          "base_uri": "https://localhost:8080/",
          "height": 296
        },
        "outputId": "baeb521f-be35-46b7-af2c-ba038f5489fe"
      },
      "execution_count": 30,
      "outputs": [
        {
          "output_type": "execute_result",
          "data": {
            "text/plain": [
              "<matplotlib.axes._subplots.AxesSubplot at 0x7f7ebb0fdb50>"
            ]
          },
          "metadata": {},
          "execution_count": 30
        },
        {
          "output_type": "display_data",
          "data": {
            "text/plain": [
              "<Figure size 432x288 with 1 Axes>"
            ],
            "image/png": "[encoded data removed]"
          },
          "metadata": {
            "needs_background": "light"
          }
        }
      ]
    },
    {
      "cell_type": "code",
      "source": [
        "churn_data['Premium Tech Support'].fillna('No',inplace=True)"
      ],
      "metadata": {
        "id": "vyeN9bRH1yVr"
      },
      "execution_count": 31,
      "outputs": []
    },
    {
      "cell_type": "code",
      "source": [
        "sns.countplot(x='Streaming TV',data=churn_data)"
      ],
      "metadata": {
        "id": "ufsYLAhj00Oe",
        "colab": {
          "base_uri": "https://localhost:8080/",
          "height": 296
        },
        "outputId": "6e738636-9b37-470b-e0b7-0674485e1cee"
      },
      "execution_count": 32,
      "outputs": [
        {
          "output_type": "execute_result",
          "data": {
            "text/plain": [
              "<matplotlib.axes._subplots.AxesSubplot at 0x7f7ebb158290>"
            ]
          },
          "metadata": {},
          "execution_count": 32
        },
        {
          "output_type": "display_data",
          "data": {
            "text/plain": [
              "<Figure size 432x288 with 1 Axes>"
            ],
            "image/png": "[encoded data removed]"
          },
          "metadata": {
            "needs_background": "light"
          }
        }
      ]
    },
    {
      "cell_type": "code",
      "source": [
        "churn_data['Streaming TV'].fillna('No',inplace=True)"
      ],
      "metadata": {
        "id": "by_583wb159v"
      },
      "execution_count": 33,
      "outputs": []
    },
    {
      "cell_type": "code",
      "source": [
        "sns.countplot(x='Streaming Movies',data=churn_data)\n"
      ],
      "metadata": {
        "id": "OnJqln5v02fU",
        "colab": {
          "base_uri": "https://localhost:8080/",
          "height": 296
        },
        "outputId": "cd952b7f-1f06-43a1-c5bc-962f84689299"
      },
      "execution_count": 34,
      "outputs": [
        {
          "output_type": "execute_result",
          "data": {
            "text/plain": [
              "<matplotlib.axes._subplots.AxesSubplot at 0x7f7ebb03f250>"
            ]
          },
          "metadata": {},
          "execution_count": 34
        },
        {
          "output_type": "display_data",
          "data": {
            "text/plain": [
              "<Figure size 432x288 with 1 Axes>"
            ],
            "image/png": "[encoded data removed]"
          },
          "metadata": {
            "needs_background": "light"
          }
        }
      ]
    },
    {
      "cell_type": "code",
      "source": [
        "churn_data['Streaming Movies'].fillna('No',inplace=True)"
      ],
      "metadata": {
        "id": "4V-xd-qb2ANv"
      },
      "execution_count": 35,
      "outputs": []
    },
    {
      "cell_type": "code",
      "source": [
        "sns.countplot(x='Streaming Music',data=churn_data)"
      ],
      "metadata": {
        "id": "zS9rvdu804tq",
        "colab": {
          "base_uri": "https://localhost:8080/",
          "height": 296
        },
        "outputId": "ddd791a9-a6a6-4e72-82dd-7898991ba993"
      },
      "execution_count": 36,
      "outputs": [
        {
          "output_type": "execute_result",
          "data": {
            "text/plain": [
              "<matplotlib.axes._subplots.AxesSubplot at 0x7f7ebb01a950>"
            ]
          },
          "metadata": {},
          "execution_count": 36
        },
        {
          "output_type": "display_data",
          "data": {
            "text/plain": [
              "<Figure size 432x288 with 1 Axes>"
            ],
            "image/png": "[encoded data removed]"
          },
          "metadata": {
            "needs_background": "light"
          }
        }
      ]
    },
    {
      "cell_type": "code",
      "source": [
        "churn_data['Streaming Music'].fillna('No',inplace=True)"
      ],
      "metadata": {
        "id": "kGAK1OWP2I68"
      },
      "execution_count": 37,
      "outputs": []
    },
    {
      "cell_type": "code",
      "source": [
        "sns.countplot(x='Unlimited Data',data=churn_data)"
      ],
      "metadata": {
        "id": "NaSUxQw5061c",
        "colab": {
          "base_uri": "https://localhost:8080/",
          "height": 296
        },
        "outputId": "abd9ba17-93a1-4b56-d209-8217ff560ce8"
      },
      "execution_count": 38,
      "outputs": [
        {
          "output_type": "execute_result",
          "data": {
            "text/plain": [
              "<matplotlib.axes._subplots.AxesSubplot at 0x7f7ebafd9410>"
            ]
          },
          "metadata": {},
          "execution_count": 38
        },
        {
          "output_type": "display_data",
          "data": {
            "text/plain": [
              "<Figure size 432x288 with 1 Axes>"
            ],
            "image/png": "[encoded data removed]"
          },
          "metadata": {
            "needs_background": "light"
          }
        }
      ]
    },
    {
      "cell_type": "code",
      "source": [
        "churn_data['Unlimited Data'].fillna('Yes',inplace=True)"
      ],
      "metadata": {
        "id": "5bY1dLHA2OyF"
      },
      "execution_count": 39,
      "outputs": []
    },
    {
      "cell_type": "code",
      "source": [
        "churn_data['Churn Category'].fillna(\"No Category\",inplace=True)"
      ],
      "metadata": {
        "id": "HkHCM1mi2d69"
      },
      "execution_count": 40,
      "outputs": []
    },
    {
      "cell_type": "code",
      "source": [
        "churn_data['Churn Reason'].fillna(\"No Reason\",inplace=True)"
      ],
      "metadata": {
        "id": "cdBWSIC63cCU"
      },
      "execution_count": 41,
      "outputs": []
    },
    {
      "cell_type": "code",
      "source": [
        "churn_data['Avg Monthly GB Download'].mean()"
      ],
      "metadata": {
        "id": "n2qEdT1e4KoY",
        "colab": {
          "base_uri": "https://localhost:8080/"
        },
        "outputId": "992c106d-5a99-4b91-c76a-b13fb00445b3"
      },
      "execution_count": 42,
      "outputs": [
        {
          "output_type": "execute_result",
          "data": {
            "text/plain": [
              "26.189958310676094"
            ]
          },
          "metadata": {},
          "execution_count": 42
        }
      ]
    },
    {
      "cell_type": "code",
      "source": [
        "churn_data['Avg Monthly GB Download'].fillna(churn_data['Avg Monthly GB Download'].mean(),inplace=True)"
      ],
      "metadata": {
        "id": "5yqAeBZV33rf"
      },
      "execution_count": 43,
      "outputs": []
    },
    {
      "cell_type": "code",
      "source": [
        "churn_data.isnull().sum()"
      ],
      "metadata": {
        "id": "mItdRDlO4i6G",
        "colab": {
          "base_uri": "https://localhost:8080/"
        },
        "outputId": "2acae71a-f230-45e4-ac82-34841e1d238e"
      },
      "execution_count": 44,
      "outputs": [
        {
          "output_type": "execute_result",
          "data": {
            "text/plain": [
              "Customer ID                          0\n",
              "Gender                               0\n",
              "Age                                  0\n",
              "Married                              0\n",
              "Number of Dependents                 0\n",
              "City                                 0\n",
              "Zip Code                             0\n",
              "Latitude                             0\n",
              "Longitude                            0\n",
              "Number of Referrals                  0\n",
              "Tenure in Months                     0\n",
              "Offer                                0\n",
              "Phone Service                        0\n",
              "Avg Monthly Long Distance Charges    0\n",
              "Multiple Lines                       0\n",
              "Internet Service                     0\n",
              "Internet Type                        0\n",
              "Avg Monthly GB Download              0\n",
              "Online Security                      0\n",
              "Online Backup                        0\n",
              "Device Protection Plan               0\n",
              "Premium Tech Support                 0\n",
              "Streaming TV                         0\n",
              "Streaming Movies                     0\n",
              "Streaming Music                      0\n",
              "Unlimited Data                       0\n",
              "Contract                             0\n",
              "Paperless Billing                    0\n",
              "Payment Method                       0\n",
              "Monthly Charge                       0\n",
              "Total Charges                        0\n",
              "Total Refunds                        0\n",
              "Total Extra Data Charges             0\n",
              "Total Long Distance Charges          0\n",
              "Total Revenue                        0\n",
              "Customer Status                      0\n",
              "Churn Category                       0\n",
              "Churn Reason                         0\n",
              "dtype: int64"
            ]
          },
          "metadata": {},
          "execution_count": 44
        }
      ]
    },
    {
      "cell_type": "code",
      "source": [
        "churn_data.to_csv('Churn Dataset.csv', index=False)"
      ],
      "metadata": {
        "id": "SGnzVXWylHjW"
      },
      "execution_count": 49,
      "outputs": []
    }
  ]
}